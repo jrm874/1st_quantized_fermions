{
 "cells": [
  {
   "cell_type": "markdown",
   "metadata": {},
   "source": [
    "# Quantum State Tomography (Unsupervised Learning)"
   ]
  },
  {
   "cell_type": "markdown",
   "metadata": {},
   "source": [
    "Quantum state tomography (QST) is a machine learning task which aims to reconstruct the full quantum state from measurement results.\n",
    "\n",
    "__Aim__: Given a variational ansatz $\\Psi(\\lbrace \\boldsymbol{\\beta} \\rbrace)$ and a set of measurement results, we want to find the parameters $\\boldsymbol{\\beta}$ which best reproduce the probability distribution of the measurements.\n",
    "\n",
    "__Training Data__: A set of single shot measurements in some basis, e.g. $\\lbrace(100010, \\textrm{XZZZYZ}), (011001, \\textrm{ZXXYZZ}), \\dots \\rbrace$"
   ]
  },
  {
   "cell_type": "code",
   "execution_count": 1,
   "metadata": {},
   "outputs": [],
   "source": [
    "import netket as nk\n",
    "import numpy as np\n",
    "import matplotlib.pyplot as plt\n",
    "import math \n",
    "import sys"
   ]
  },
  {
   "cell_type": "markdown",
   "metadata": {},
   "source": [
    "While in practice, the measurement results can be experimental data e.g. from a quantum computer/simulator, for our purpose, we shall construct our data set by making single shot measurement on a wavefunction that we have obtained via exact diagonalisation. For this tutorial, we shall focus on the one-dimensional anti-ferromagnetic transverse-field Ising model defined by\n",
    "\n",
    "$$H = \\sum_{i} Z_{i}Z_{i+1} + h \\sum_{i} X_{i}$$"
   ]
  },
  {
   "cell_type": "code",
   "execution_count": 2,
   "metadata": {},
   "outputs": [],
   "source": [
    "# Define the Hamiltonian\n",
    "N = 8\n",
    "g = nk.graph.Hypercube(length=N, n_dim=1, pbc=False)\n",
    "hi = nk.hilbert.Spin(g, s=0.5)\n",
    "ha = nk.operator.Ising(hi, h=1.0)"
   ]
  },
  {
   "cell_type": "markdown",
   "metadata": {},
   "source": [
    "Next, perform exact diagonalisation to obtain the ground state wavefunction."
   ]
  },
  {
   "cell_type": "code",
   "execution_count": 3,
   "metadata": {},
   "outputs": [
    {
     "name": "stdout",
     "output_type": "stream",
     "text": [
      "Ground state energy = -9.837951447459439\n"
     ]
    }
   ],
   "source": [
    "# Obtain the ED wavefunction\n",
    "res = nk.exact.lanczos_ed(ha, first_n=1, compute_eigenvectors=True)\n",
    "psi = res.eigenvectors[0]\n",
    "print(\"Ground state energy =\", res.eigenvalues[0])"
   ]
  },
  {
   "cell_type": "markdown",
   "metadata": {},
   "source": [
    "Finally, to construct the dataset, we will make single shot measurements in various bases. To obtain a single shot measurement, we need to sample from the wavefunction in the relevant basis.\n",
    "\n",
    "Since the wavefunction we obtained is in the computational basis (i.e. $Z$ basis), to obtain a single shot measurement in another basis, one would need to transform the wavefunction as follows (this is similar to how one would do a measurement in a different basis on a quantum computer):\n",
    "\n",
    "X Basis:\n",
    "$$ |{\\Psi}\\rangle \\rightarrow I_n \\otimes \\frac{1}{\\sqrt{2}}\\pmatrix{1 & 1 \\\\ 1& -1} \\otimes I_m \\ |\\Psi\\rangle$$\n",
    "\n",
    "Y Basis:\n",
    "$$ |{\\Psi}\\rangle \\rightarrow I_n \\otimes \\frac{1}{\\sqrt{2}}\\pmatrix{1 & -i \\\\ 1& i} \\otimes I_m \\ |\\Psi\\rangle$$ "
   ]
  },
  {
   "cell_type": "code",
   "execution_count": 4,
   "metadata": {},
   "outputs": [],
   "source": [
    "def build_rotation(hi, basis):\n",
    "    localop = nk.operator.LocalOperator(hi, 1.0)\n",
    "    U_X = 1.0 / (math.sqrt(2)) * np.asarray([[1.0, 1.0], [1.0, -1.0]])\n",
    "    U_Y = 1.0 / (math.sqrt(2)) * np.asarray([[1.0, -1j], [1.0, 1j]])\n",
    "\n",
    "    N = hi.size\n",
    "\n",
    "    assert len(basis) == hi.size\n",
    "\n",
    "    for j in range(hi.size):\n",
    "        if basis[j] == \"X\":\n",
    "            localop *= nk.operator.LocalOperator(hi, U_X, [j])\n",
    "        if basis[j] == \"Y\":\n",
    "            localop *= nk.operator.LocalOperator(hi, U_Y, [j])  \n",
    "    return localop"
   ]
  },
  {
   "cell_type": "code",
   "execution_count": 5,
   "metadata": {},
   "outputs": [
    {
     "name": "stdout",
     "output_type": "stream",
     "text": [
      "Number of bases: 16\n",
      "Number of shots: 1000\n",
      "Total size of the dataset: 16000\n",
      "Some single shot results: (sample, basis)\n",
      " [(array([ 1.,  1.,  1., -1.,  1., -1.,  1., -1.]), 0), (array([ 1.,  1., -1.,  1., -1.,  1., -1.,  1.]), 0), (array([-1.,  1., -1.,  1., -1.,  1., -1.,  1.]), 0)]\n"
     ]
    }
   ],
   "source": [
    "n_basis = 2*N\n",
    "n_shots = 1000\n",
    "\n",
    "\n",
    "rotations = []\n",
    "training_samples = []\n",
    "training_bases = []\n",
    "\n",
    "np.random.seed(1234)\n",
    "\n",
    "for m in range(n_basis):\n",
    "    basis = np.random.choice(\n",
    "        list(\"XYZ\"), size=N, p=[1.0 / N, 1.0 / N, (N - 2.0) / N]\n",
    "    )\n",
    "    \n",
    "    psi_rotated = np.copy(psi)\n",
    "    if 'X' in basis or 'Y' in basis:\n",
    "        rotation = build_rotation(hi, basis)\n",
    "        psi_rotated = rotation.to_sparse().dot(psi_rotated)\n",
    "    psi_square = np.square(np.absolute(psi_rotated))\n",
    "    \n",
    "    rand_n = np.random.choice(hi.n_states, p=psi_square, size=n_shots)\n",
    "\n",
    "    for rn in rand_n:\n",
    "        training_samples.append(hi.number_to_state(rn))\n",
    "    training_bases += [m] * n_shots\n",
    "\n",
    "    rotations.append(rotation)\n",
    "\n",
    "print('Number of bases:', n_basis)\n",
    "print('Number of shots:', n_shots)\n",
    "print('Total size of the dataset:', n_basis*n_shots)\n",
    "print('Some single shot results: (sample, basis)\\n', list(zip(training_samples[:3], training_bases[:3])))"
   ]
  },
  {
   "cell_type": "markdown",
   "metadata": {},
   "source": [
    "The basis rotations are contained in ``rotations`` and the single shot measurements are stored in ``training_samples``.  ``training_bases`` is a list of integers which labels each samples in ``training_samples`` according to their basis."
   ]
  },
  {
   "cell_type": "markdown",
   "metadata": {},
   "source": [
    "Having obtained the dataset, we can proceed to define the variational ansatz one wishes to train. We shall simply use the Restricted Boltzmann Machine (RBM) with real parameters defined as:\n",
    "\n",
    "$$ \\tilde\\psi (\\boldsymbol{\\sigma})  =  p_{\\boldsymbol{\\lambda}}(\\boldsymbol{\\sigma}) e^{i \\phi_{\\boldsymbol{\\mu}}(\\boldsymbol{\\sigma})} $$\n",
    "\n",
    "where $\\phi_{\\boldsymbol{\\mu}}(\\boldsymbol{\\sigma}) = \\log  p_{\\boldsymbol{\\mu}}(\\boldsymbol{\\sigma})$ and $p_{\\boldsymbol{\\lambda/\\mu}}$ are standard RBM real probability distributions. Notice that the amplitude part $p_{\\boldsymbol{\\lambda}}$ completely defines the measurements in the Z basis and vice versa.\n",
    "\n"
   ]
  },
  {
   "cell_type": "code",
   "execution_count": 6,
   "metadata": {},
   "outputs": [],
   "source": [
    "# Define the variational wavefunction ansatz\n",
    "ma = nk.machine.RbmSpinPhase(hilbert=hi, alpha=1)"
   ]
  },
  {
   "cell_type": "markdown",
   "metadata": {},
   "source": [
    "With the variational ansatz as well as the dataset, the quantum state tomography can now be performed. Recall that the aim is to reconstruct a wavefunction $|\\Psi_{U}\\rangle$ (for our case, the ground state of the 1D TFIM) given single shot measurements of the wavefunction in various bases. The single shot measurements are governed by a probability distribution \n",
    "\n",
    "$$P_{b}(\\boldsymbol{\\sigma}) = | \\langle \\boldsymbol{\\sigma}| \\hat{U}_{b} |\\Psi_{U}\\rangle|^{2}$$ \n",
    "\n",
    "which depends on $|\\Psi_{U}\\rangle$ and the basis $b$ in which the measurement is performed. $\\hat{U}_{b}$ is simply the unitary which rotates the wavefunction into the corresponding basis.\n",
    "\n",
    "Similarly, the variational wavefunction $|\\tilde\\psi\\rangle$ also defines a set of basis dependent probability distributions $\\tilde P_{b}(\\boldsymbol{\\sigma})$. The optimisation procedure is then basically a minimisation task to find the set of parameters $\\boldsymbol{\\kappa}$ which minimises the total Kullback–Leibler divergence between $\\tilde P_{b}$ and $P_{b}$, i.e.\n",
    "\n",
    "$$ \\Xi(\\boldsymbol{\\kappa}) = \\sum_{b} \\mathbb{KL}_{b}({\\kappa}) $$\n",
    "\n",
    "where \n",
    "\n",
    "$$\\mathbb{KL}_{b}({\\boldsymbol{\\kappa}}) = \\sum_{\\boldsymbol{\\sigma}} P_{b}(\\boldsymbol{\\sigma}) \\log \\frac{ P_{b}(\\boldsymbol{\\sigma})}{\\tilde P_{b}(\\boldsymbol{\\sigma})}$$.\n",
    "\n",
    "This minimisation can be achieved by gradient descent. Although one does not have access to the underlying probability distributions $P_{b}(\\boldsymbol{\\sigma})$, the total KL divergence can be estimated by summing over the dataset $\\lbrace D_{b} \\rbrace$\n",
    "\n",
    "$$ \\Xi(\\boldsymbol{\\kappa}) = -\\sum_{b} \\sum_{\\boldsymbol{\\sigma} \\in D_{b}} \\log \\tilde P_{b}(\\boldsymbol{\\sigma}) + S $$\n",
    "\n",
    "where $S$ is the constant entropy of $P_{b}(\\boldsymbol{\\sigma})$ which can be ignored. The details regarding the computation of the gradients can be found in arXiv:1703.05334."
   ]
  },
  {
   "cell_type": "markdown",
   "metadata": {},
   "source": [
    "In addition to reconstructing the quantum state, we would also like to investigate how the size of the dataset affects the quality of the reconstruction. To that end, we shall run the optimisation with different dataset sizes."
   ]
  },
  {
   "cell_type": "code",
   "execution_count": 7,
   "metadata": {},
   "outputs": [],
   "source": [
    "# Shuffle our datasets\n",
    "import random\n",
    "temp = list(zip(training_bases, training_samples))\n",
    "random.shuffle(temp)\n",
    "training_bases, training_samples = zip(*temp)"
   ]
  },
  {
   "cell_type": "code",
   "execution_count": 8,
   "metadata": {},
   "outputs": [],
   "source": [
    "# Sampler\n",
    "sa = nk.sampler.MetropolisLocal(machine=ma)\n",
    "\n",
    "# Optimizer\n",
    "op = nk.optimizer.AdaDelta()"
   ]
  },
  {
   "cell_type": "code",
   "execution_count": 9,
   "metadata": {},
   "outputs": [
    {
     "name": "stdout",
     "output_type": "stream",
     "text": [
      "Starting optimisation for dataset size 2000\n",
      "Starting optimisation for dataset size 4000\n",
      "Starting optimisation for dataset size 8000\n",
      "Starting optimisation for dataset size 16000\n"
     ]
    }
   ],
   "source": [
    "dataset_sizes = [2000, 4000, 8000, 16000]\n",
    "# During the optimisation, we would like to keep track \n",
    "# of the fidelities and energies\n",
    "fidelities = {} \n",
    "energies = {}\n",
    "\n",
    "for size in dataset_sizes:\n",
    "    # First remember to reinitialise the machine\n",
    "    ma.init_random_parameters(seed=1234, sigma=0.01)\n",
    "    # Quantum State Tomography object\n",
    "    qst = nk.unsupervised.Qsr(\n",
    "        sampler=sa,\n",
    "        optimizer=op,\n",
    "        batch_size=300,\n",
    "        n_samples=300,\n",
    "        rotations=tuple(rotations[:size]),\n",
    "        samples=training_samples[:size],\n",
    "        bases=training_bases,\n",
    "        method=\"Gd\"\n",
    "    )\n",
    "    qst.add_observable(ha, \"Energy\")\n",
    "    \n",
    "    # Run the optimisation using the iterator\n",
    "    print(\"Starting optimisation for dataset size\", size)\n",
    "    fidelities_temp = []\n",
    "    energies_temp = []\n",
    "    for step in qst.iter(2000, 100):\n",
    "        # Compute fidelity with exact state\n",
    "        psima = ma.to_array()\n",
    "        fidelity = np.abs(np.vdot(psima, psi))\n",
    "        fidelities_temp.append(fidelity)\n",
    "    fidelities[size] = fidelities_temp\n",
    "    energies[size] = energies_temp"
   ]
  },
  {
   "cell_type": "code",
   "execution_count": 10,
   "metadata": {},
   "outputs": [
    {
     "data": {
      "image/png": "[encoded data removed]",
      "text/plain": [
       "<Figure size 432x288 with 1 Axes>"
      ]
     },
     "metadata": {
      "needs_background": "light"
     },
     "output_type": "display_data"
    }
   ],
   "source": [
    "for size in fidelities:\n",
    "    plt.plot(np.arange(1,21,1),fidelities[size], label='dataset size = '+str(size))\n",
    "plt.axhline(y=1, xmin=0,\n",
    "            xmax=20, linewidth=3, color='k', label='Perfect Fidelity')\n",
    "plt.ylabel('Fidelity')\n",
    "plt.xlabel('Iteration')\n",
    "plt.xticks(range(0,21,4))\n",
    "plt.legend()\n",
    "plt.show()"
   ]
  },
  {
   "cell_type": "markdown",
   "metadata": {},
   "source": [
    "As expected, it is relatively clear that with increasing dataset size, the final fidelity does increase."
   ]
  }
 ],
 "metadata": {
  "kernelspec": {
   "display_name": "netket",
   "language": "python",
   "name": "netket"
  },
  "language_info": {
   "codemirror_mode": {
    "name": "ipython",
    "version": 3
   },
   "file_extension": ".py",
   "mimetype": "text/x-python",
   "name": "python",
   "nbconvert_exporter": "python",
   "pygments_lexer": "ipython3",
   "version": "3.6.6"
  }
 },
 "nbformat": 4,
 "nbformat_minor": 2
}
