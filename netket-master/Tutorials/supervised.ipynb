{
 "cells": [
  {
   "cell_type": "markdown",
   "metadata": {},
   "source": [
    "# Supervised Learning with Neural Networks\n",
    "\n",
    "In this tutorial we show how to optimize a neural networks to approximate the state given. In this example, we consider the ground state of the J1-J2 model in one-dimension obtained from ED using NetKet. \n",
    "\n",
    "The Hamiltonian of the model is given by:\n",
    "$$ H = \\sum_{i=1}^{L} J_{1}\\hat{S}_{i} \\cdot \\hat{S}_{i+1} + J_{2} \\hat{S}_{i} \\cdot \\hat{S}_{i+2} $$\n",
    "where the sum is over sites of the 1-D chain.\n",
    "\n",
    "\n",
    "## Outline:\n",
    "    1. Obtain data from ED\n",
    "    2. Choosing the machine (variational ansatz) and the optimizer\n",
    "    3. Defining the Supervised Learning object\n",
    "    4. Running the Supervised Learning\n",
    "    5. Data Visualisation\n",
    "    \n"
   ]
  },
  {
   "cell_type": "code",
   "execution_count": 1,
   "metadata": {},
   "outputs": [],
   "source": [
    "# Import netket library\n",
    "import netket as nk\n",
    "\n",
    "# Helper libraries\n",
    "import numpy as np\n",
    "import matplotlib.pyplot as plt"
   ]
  },
  {
   "cell_type": "markdown",
   "metadata": {},
   "source": [
    "## 1) Obtain data from ED\n",
    "\n",
    "For a supervised learning problem, we would need to provide the data including input $X$ and output label $Y$. The neural network is asked to learn the mapping $Y=f(X)$. In our case, the input is the spin basis and the output is the coefficient of the corresponding spin basis. \n",
    "\n",
    "First, we write a simple function to obtain data, i.e. ground state, from exact diagonalization. For detailed explanation see the tutorial for J1-J2 model for example."
   ]
  },
  {
   "cell_type": "code",
   "execution_count": 2,
   "metadata": {},
   "outputs": [],
   "source": [
    "def load_ed_data(L, J2=0.4):\n",
    "    # Sigma^z*Sigma^z interactions\n",
    "    sigmaz = np.array([[1, 0], [0, -1]])\n",
    "    mszsz = (np.kron(sigmaz, sigmaz))\n",
    "\n",
    "    # Exchange interactions\n",
    "    exchange = np.asarray(\n",
    "        [[0, 0, 0, 0], [0, 0, 2, 0], [0, 2, 0, 0], [0, 0, 0, 0]])\n",
    "\n",
    "    # Couplings J1 and J2\n",
    "    J = [1., J2]\n",
    "\n",
    "    mats = []\n",
    "    sites = []\n",
    "\n",
    "    for i in range(L):\n",
    "        for d in [0, 1]:\n",
    "            # \\sum_i J*sigma^z(i)*sigma^z(i+d)\n",
    "            mats.append((J[d] * mszsz).tolist())\n",
    "            sites.append([i, (i + d + 1) % L])\n",
    "\n",
    "            # \\sum_i J*(sigma^x(i)*sigma^x(i+d) + sigma^y(i)*sigma^y(i+d))\n",
    "            mats.append(((-1.)**(d + 1) * J[d] * exchange).tolist())\n",
    "            sites.append([i, (i + d + 1) % L])\n",
    "\n",
    "    # 1D Lattice\n",
    "    g = nk.graph.Hypercube(length=L, n_dim=1, pbc=True)\n",
    "\n",
    "    # Spin based Hilbert Space\n",
    "    hi = nk.hilbert.Spin(s=0.5, graph=g)\n",
    "\n",
    "    # Custom Hamiltonian operator\n",
    "    ha = nk.operator.LocalOperator(hi)\n",
    "    for mat, site in zip(mats, sites):\n",
    "        ha += nk.operator.LocalOperator(hi, mat, site)\n",
    "\n",
    "    # Perform Lanczos Exact Diagonalization to get lowest three eigenvalues\n",
    "    res = nk.exact.lanczos_ed(ha, first_n=3, compute_eigenvectors=True)\n",
    "\n",
    "    # Eigenvector\n",
    "    ttargets = []\n",
    "\n",
    "    tsamples = []\n",
    "\n",
    "    for i, visible in enumerate(hi.states()):\n",
    "        # only pick zero-magnetization states\n",
    "        mag = np.sum(visible)\n",
    "        if(np.abs(mag) < 1.0e-4):\n",
    "            tsamples.append(visible.tolist())\n",
    "            ttargets.append([np.log(res.eigenvectors[0][i])])\n",
    "\n",
    "    return hi, tsamples, ttargets\n"
   ]
  },
  {
   "cell_type": "markdown",
   "metadata": {},
   "source": [
    "After we obtain the result as ``res``, we return the hilbert space ``hi``, the spin basis ``tsamples``, and the coefficients ``ttargets``.\n",
    "\n",
    "Notice that we restrict ourselves to $\\sum S_z = 0$ symmetry sector to simplify the learning."
   ]
  },
  {
   "cell_type": "markdown",
   "metadata": {},
   "source": [
    "We now consider a small system $L=10$ and with $J_2 = 0.4$, and obtain the data by calling the function ```load_ed_data```."
   ]
  },
  {
   "cell_type": "code",
   "execution_count": 3,
   "metadata": {},
   "outputs": [],
   "source": [
    "L = 10\n",
    "J2 = 0.4\n",
    "\n",
    "# Load the Hilbert space info and data\n",
    "hi, training_samples, training_targets = load_ed_data(L, J2)\n"
   ]
  },
  {
   "cell_type": "markdown",
   "metadata": {},
   "source": [
    "## 2) Choosing the Machine and the Optimizer\n",
    "\n",
    "For this tutorial, we consider the Restricted Bolzmann Machine ``nk.machine.RbmSpin`` and the AdaDelta optimizer ``nk.optimizer.AdaDelta``."
   ]
  },
  {
   "cell_type": "code",
   "execution_count": 4,
   "metadata": {},
   "outputs": [],
   "source": [
    "# Machine\n",
    "ma = nk.machine.RbmSpin(hilbert=hi, alpha=1)\n",
    "ma.init_random_parameters(seed=1234, sigma=0.01)\n",
    "# Optimizer\n",
    "op = nk.optimizer.AdaDelta()"
   ]
  },
  {
   "cell_type": "markdown",
   "metadata": {},
   "source": [
    "## 3) Defining the Supervised Learning object\n",
    "\n",
    "We have now have almost everything (machine, optimizer, data) for setting up a supervised learning object. We also need to provide the batch size, ``batch_size``, for stochatic gradient descent. For detail, see https://en.wikipedia.org/wiki/Stochastic_gradient_descent\n",
    "\n",
    "\n"
   ]
  },
  {
   "cell_type": "code",
   "execution_count": 5,
   "metadata": {},
   "outputs": [],
   "source": [
    "# Supervised learning object\n",
    "spvsd = nk.supervised.Supervised(\n",
    "    machine=ma,\n",
    "    optimizer=op,\n",
    "    batch_size=400,\n",
    "    samples=training_samples,\n",
    "    targets=training_targets)\n"
   ]
  },
  {
   "cell_type": "markdown",
   "metadata": {},
   "source": [
    "## 4) Running the Supervised Learning\n",
    "\n",
    "The very last piece we need for supervised learning is the loss function.\n",
    "\n",
    "### Loss function\n",
    "There are different loss functions one could define for the optimization problem, for example:\n",
    "$$\n",
    "\\begin{align*}\n",
    "        \\mathcal{L}_\\text{MSE log} &= \\frac{1}{N} \\sum_{i}^N |\\log\\Psi(X_i) - \\log\\Phi(X_i) |^2\\\\\n",
    "        \\mathcal{L}_\\text{Overlap} &=-\\log\\Big[ \\frac{\\langle{\\Psi|\\Phi}\\rangle\\langle{\\Phi|\\Psi}\\rangle}{\\langle{\\Psi|\\Psi}\\rangle\\langle{\\Phi|\\Phi}\\rangle} \\Big] \\\\\n",
    "        &=- \\log\\Big( \\sum_{i}^N \\Psi^*(X_i)\\Phi(X_i) \\Big) - \\log\\Big( \\sum_{i}^N \\Phi^*(X_i)\\Psi(X_i) \\Big) \\\\\n",
    "        &\\qquad +\n",
    "        \\log\\Big( \\sum_{i}^N \\Psi^*(X_i)\\Psi(X_i) \\Big) +\n",
    "        \\log\\Big( \\sum_{i}^N \\Phi^*(X_i)\\Phi(X_i) \\Big)\n",
    "\\end{align*}\n",
    "$$\n",
    "\n",
    "Here, we consider the latter one, which is the negative log of the overlap, as the loss function.\n"
   ]
  },
  {
   "cell_type": "markdown",
   "metadata": {},
   "source": [
    "\n",
    "\n",
    "### Gradient estimate\n",
    "Taking the derivative from overlap errror function above, we have\n",
    "$$\n",
    "\\begin{equation*}\n",
    "    \\partial_k \\mathcal{L}_\\text{Overlap} = -\\frac{\\sum_i O_k^*\\Psi^*(X_i)\\Phi(X_i) }{\\sum_i\\Psi^*(X_i)\\Phi(X_i)} + \\frac{\\sum_i O_k^*\\Psi^*(X_i)\\Psi(X_i)}{\\sum_i \\Psi^*(X_i)\\Psi(X_i)}\n",
    "\\end{equation*}\n",
    "$$\n",
    "\n",
    "Note that $N$ is the size of the Hilbert space. In general, this could not be computed exactly.\n",
    "\n",
    "\n",
    "We could estimate this gradient by sampling different distributions,\n",
    "$$\n",
    "\\begin{equation*}\n",
    "    \\hat{\\partial_k \\mathcal{L}}_\\text{Overlap uni} = \\frac{\\Big\\langle O_k^*\\Psi^*(X_i)\\Psi(X_i)\\Big \\rangle_{i\\sim\\text{uni}[1,N]} }{\\Big \\langle \\Psi^*(X_i)\\Psi(X_i) \\Big \\rangle_{i\\sim\\text{uni}[1,N]}} - \\frac{\\Big \\langle O_k^*\\Psi^*(X_i)\\Phi(X_i)\\Big \\rangle_{i\\sim\\text{uni}[1,N]} }{\\Big \\langle \\Psi^*(X_i)\\Phi(X_i) \\Big \\rangle_{i\\sim\\text{uni}[1,N]}} \n",
    "\\end{equation*}\n",
    "$$\n",
    "$$\n",
    "\\begin{equation*}\n",
    "    \\hat{\\partial_k \\mathcal{L}}_\\text{Overlap phi} = \\frac{\\Big \\langle O_k^*(X_i)\\frac{\\lVert \\Psi(X_i)\\rVert^2}{\\lVert \\Phi(X_i)\\rVert^2} \\Big \\rangle_{X_i\\sim \\lVert \\Phi(X_i)\\rVert^2 }}   {\\Big \\langle \\frac{\\lVert \\Psi(X_i)\\rVert^2}{\\lVert \\Phi(X_i)\\rVert^2} \\Big \\rangle_{X_i\\sim \\lVert \\Phi(X_i)\\rVert^2 }} - \\frac{\\Big \\langle O_k^*(X_i)\\frac{ \\Psi^*(X_i)}{ \\Phi^*(X_i)} \\Big \\rangle_{X_i\\sim \\lVert \\Phi(X_i)\\rVert^2 }}{\\Big \\langle \\frac{ \\Psi^*(X_i)}{ \\Phi^*(X_i)} \\Big \\rangle_{X_i\\sim \\lVert \\Phi(X_i)\\rVert^2 }}\n",
    "\\end{equation*} \n",
    "$$\n",
    "\n",
    "\n",
    "\n",
    "So for the overlap loss function, we have two gradient estimate, one is $\\hat{\\partial_k \\mathcal{L}}_\\text{Overlap uni}$, ```Overlap_uni```, and $\\hat{\\partial_k \\mathcal{L}}_\\text{Overlap phi}$, ```Overlap_phi```."
   ]
  },
  {
   "cell_type": "markdown",
   "metadata": {},
   "source": [
    "We save the loss function every iteration, and save the optimized parameters only every ``save_params_every`` iterations."
   ]
  },
  {
   "cell_type": "code",
   "execution_count": 6,
   "metadata": {},
   "outputs": [],
   "source": [
    "# Number of iteration\n",
    "n_iter = 4000\n",
    "\n",
    "# Run with \"Overlap_phi\" loss. Also available currently is \"MSE, Overlap_uni\"\n",
    "spvsd.run(n_iter=n_iter, loss_function=\"Overlap_phi\",\n",
    "          output_prefix='output', save_params_every=50)\n"
   ]
  },
  {
   "cell_type": "markdown",
   "metadata": {},
   "source": [
    "## 5) Data Visualisation\n",
    "\n",
    "We have optimized our machine to approximate the ground state of the J1-J2 model. The results for the loss function are stored in the \".log\" file and the optimized parameters in the \".wf\" file. The files are all in json format.\n",
    "\n"
   ]
  },
  {
   "cell_type": "code",
   "execution_count": 7,
   "metadata": {},
   "outputs": [],
   "source": [
    "# Load the data from the .log file\n",
    "import json\n",
    "\n",
    "data=json.load(open(\"output.log\"))\n",
    "\n",
    "# Extract the relevant information\n",
    "iters=[]\n",
    "log_overlap=[]\n",
    "mse=[]\n",
    "mse_log=[]\n",
    "\n",
    "data=json.load(open('output.log'))\n",
    "for iteration in data[\"Output\"]:\n",
    "    iters.append(iteration[\"Iteration\"])\n",
    "    log_overlap.append(iteration[\"log_overlap\"])\n",
    "    mse.append(iteration[\"mse\"])\n",
    "    mse_log.append(iteration[\"mse_log\"])\n",
    "\n",
    "overlap = np.exp(-np.array(log_overlap))\n"
   ]
  },
  {
   "cell_type": "markdown",
   "metadata": {},
   "source": [
    "Now, we plot the overlap, i.e. fidelity, with respect to the number of iteration."
   ]
  },
  {
   "cell_type": "code",
   "execution_count": 8,
   "metadata": {},
   "outputs": [
    {
     "data": {
      "image/png": "[encoded data removed]",
      "text/plain": [
       "<Figure size 432x288 with 2 Axes>"
      ]
     },
     "metadata": {
      "needs_background": "light"
     },
     "output_type": "display_data"
    }
   ],
   "source": [
    "\n",
    "J2 = 0.4\n",
    "\n",
    "plt.subplot(2, 1, 1)\n",
    "plt.title(r'$J_1 J_2$ model, $J_2=' + str(J2) + '$')\n",
    "plt.ylabel('Overlap = F')\n",
    "plt.xlabel('Iteration #')\n",
    "\n",
    "plt.plot(iters, overlap)\n",
    "plt.axhline(y=1, xmin=0, xmax=iters[-1], linewidth=2, color='k',label='max accuracy = 1')\n",
    "\n",
    "plt.legend(frameon=False)\n",
    "\n",
    "plt.subplot(2, 1, 2)\n",
    "plt.ylabel('Overlap Error = 1-F')\n",
    "plt.xlabel('Iteration #')\n",
    "plt.semilogy(iters, 1.-overlap)\n",
    "plt.show()\n"
   ]
  },
  {
   "cell_type": "markdown",
   "metadata": {},
   "source": [
    "The result suggests that indeed we could have a good approximate to the state given by supervised learning. "
   ]
  }
 ],
 "metadata": {
  "kernelspec": {
   "display_name": "Python 3",
   "language": "python",
   "name": "python3"
  },
  "language_info": {
   "codemirror_mode": {
    "name": "ipython",
    "version": 3
   },
   "file_extension": ".py",
   "mimetype": "text/x-python",
   "name": "python",
   "nbconvert_exporter": "python",
   "pygments_lexer": "ipython3",
   "version": "3.6.7"
  }
 },
 "nbformat": 4,
 "nbformat_minor": 2
}
