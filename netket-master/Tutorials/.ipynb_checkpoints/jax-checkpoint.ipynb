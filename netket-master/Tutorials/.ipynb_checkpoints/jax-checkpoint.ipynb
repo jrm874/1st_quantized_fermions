{
 "cells": [
  {
   "cell_type": "markdown",
   "metadata": {},
   "source": [
    "# Using JAX as a backend in NetKet - Feature Preview for v3.0 \n",
    "\n",
    "In this tutorial we will show how differentiable functions (for example deep networks) written in [JAX](https://github.com/google/jax) can be used as variational quantum states in NetKet. \n",
    "\n",
    "This feature will be available in the upcoming major release (version 3.0). While version 3.0 is still in beta development, users can already try this feature. \n",
    "\n",
    "\n",
    "## Prerequisites \n",
    "\n",
    "To try out integration with JAX, you first need to fetch the development version of NetKet (v3.0) \n",
    "We recommend using a virtual environment (either a python environment or a conda environment), for example\n",
    "\n",
    "```shell\n",
    "python3 -m venv nk_env\n",
    "source nk_env/bin/activate\n",
    "pip install git+https://github.com/netket/netket@v3.0\n",
    "```\n",
    "\n",
    "Frameworks such as JAX and Pytorch are add-ons for NetKet 3.0, thus they require separate installation. In this case, we can easily get JAX doing \n",
    "\n",
    "```shell\n",
    "pip install --upgrade jax jaxlib\n",
    "```\n",
    "More information can also be found [here](https://github.com/google/jax#installation).\n",
    "\n",
    "## Defining the quantum system \n",
    "\n",
    "NetKet allows for full flexibility in defining quantum systems, for example when tackling a ground-state search problem. While there are a few pre-defined hamiltonians, it is relatively straightforward to implement new quantum operators/ Hamiltonians. \n",
    "\n",
    "In the following, we consider the case of a transverse-field Ising model defined on a graph with random edges. \n",
    "\n",
    "$$ H = -\\sum_{i\\in\\textrm{nodes}}^{L} \\sigma^x_{i} + J \\sum_{(i,j)\\in\\textrm{edges}}\\sigma_{i}^{z}\\sigma_{i}^{z} $$  "
   ]
  },
  {
   "cell_type": "code",
   "execution_count": 1,
   "metadata": {},
   "outputs": [],
   "source": [
    "import netket as nk\n",
    "\n",
    "#Define a random graph\n",
    "n_nodes=10\n",
    "n_edges=20\n",
    "from numpy.random import choice\n",
    "rand_edges=[choice(n_nodes, size=2,replace=False).tolist() for i in range(n_edges)]\n",
    "\n",
    "graph=nk.graph.Graph(edges=rand_edges)\n",
    "\n",
    "\n",
    "#Define the local hilbert space\n",
    "hi=nk.hilbert.Spin(graph,s=0.5)\n",
    "\n",
    "\n",
    "#Define the Hamiltonian as a sum of local operators \n",
    "from netket.operator import LocalOperator as Op\n",
    "\n",
    "# Pauli Matrices\n",
    "sx = [[0, 1], [1, 0]]\n",
    "sz = [[1, 0], [0, -1]]\n",
    "\n",
    "# Defining the Hamiltonian as a LocalOperator acting on the given Hilbert space\n",
    "ha = Op(hi)\n",
    "\n",
    "#Adding a transverse field term on each node of the graph\n",
    "for i in range(graph.n_nodes):\n",
    "    ha += Op(hi, sx, [i])\n",
    "\n",
    "#Adding nearest-neighbors interactions on the edges of the given graph\n",
    "from numpy import kron\n",
    "J=0.5\n",
    "for edge in graph.edges():\n",
    "    ha += J*Op(hi, kron(sz, sz), edge)\n"
   ]
  },
  {
   "cell_type": "markdown",
   "metadata": {},
   "source": [
    "## Defining a JAX module to be used as a wave function\n",
    "\n",
    "We now want to define a suitable JAX wave function to be used as a wave function ansatz. To simplify the discusssion, we consider here a simple single-layer fully connected network with complex weights and a $tanh$ activation function. These are easy to define in JAX, using for example a model built with [STAX](https://github.com/google/jax/tree/master/jax/experimental). The only requirement is that these networks take as  inputs JAX arrays of shape ```(batch_size,n)```, where batch_size is an arbitrary ```batch size``` and ```n``` is the number of quantum degrees of freedom (for example, the number of spins, in the previous example). Notice that regardless of the dimensionality of the problem, the last dimension is always flattened into a single index.  \n"
   ]
  },
  {
   "cell_type": "code",
   "execution_count": 2,
   "metadata": {},
   "outputs": [
    {
     "name": "stderr",
     "output_type": "stream",
     "text": [
      "/Users/giuscarl/miniconda3/envs/netket_env/lib/python3.8/site-packages/jax/lib/xla_bridge.py:116: UserWarning: No GPU/TPU found, falling back to CPU.\n",
      "  warnings.warn('No GPU/TPU found, falling back to CPU.')\n"
     ]
    }
   ],
   "source": [
    "import jax\n",
    "from jax.experimental import stax\n",
    "\n",
    "#We define a custom layer that performs the sum of its inputs \n",
    "def SumLayer():\n",
    "    def init_fun(rng, input_shape):\n",
    "        output_shape = (-1, 1)\n",
    "        return output_shape, ()\n",
    "\n",
    "    def apply_fun(params, inputs, **kwargs):\n",
    "        return inputs.sum(axis=-1)\n",
    "\n",
    "    return init_fun, apply_fun\n",
    "\n",
    "#We construct a fully connected network with tanh activation \n",
    "model=stax.serial(stax.Dense(2 * graph.n_nodes), stax.Tanh,SumLayer())\n",
    "\n",
    "#Here we use this model as a netket machine that can be used in other applications\n",
    "ma=nk.machine.Jax(hi,model,dtype=complex)\n",
    "ma.init_random_parameters(seed=1232)"
   ]
  },
  {
   "cell_type": "markdown",
   "metadata": {},
   "source": [
    "## Train the neural network to find an approximate ground state\n",
    "\n",
    "In order to perform Variational Monte Carlo, we further need to specify a suitable \n",
    "sampler (to compute expectation values over the variational state) as well as \n",
    "an optimizer. In the following we will adopt the Stochatic Gradient Descent coupled\n",
    "with quantum natural gradients (this scheme is known in the VMC literature as Stochastic Reconfiguration)"
   ]
  },
  {
   "cell_type": "code",
   "execution_count": 3,
   "metadata": {},
   "outputs": [],
   "source": [
    "# Defining a sampler that performs local moves\n",
    "# NetKet automatically dispatches here to MCMC sampler written using JAX types\n",
    "sa = nk.sampler.MetropolisLocal(machine=ma, n_chains=2)\n",
    "\n",
    "# Using Sgd\n",
    "# Also dispatching to JAX optimizer\n",
    "op = nk.optimizer.Sgd(ma, learning_rate=0.02)\n",
    "\n",
    "# Using Stochastic Reconfiguration a.k.a. quantum natural gradient\n",
    "# Also dispatching to a pure JAX version\n",
    "sr = nk.optimizer.SR(ma, diag_shift=0.1)\n",
    "\n",
    "# Create the Variational Monte Carlo instance to learn the ground state\n",
    "vmc = nk.Vmc(\n",
    "    hamiltonian=ha, sampler=sa, optimizer=op, n_samples=1000, sr=sr\n",
    ")"
   ]
  },
  {
   "cell_type": "markdown",
   "metadata": {},
   "source": [
    "### Running the training loop \n",
    "\n",
    "The last version of NetKet also allows for a finer control of the vmc loop. In the simplest case, one can just iterate through the vmc object and print the current value of the energy. More sophisticated output schemes based on tensorboard have been also implemented, but are not discussed in this Tutorial. "
   ]
  },
  {
   "cell_type": "code",
   "execution_count": 4,
   "metadata": {},
   "outputs": [
    {
     "name": "stdout",
     "output_type": "stream",
     "text": [
      "0 9.97-0.01j ± 0.087 [var=6.4e+00, R_hat=0.9993]\n",
      "50 -3.2+0.1j ± 0.12 [var=7.9e+00, R_hat=1.0005]\n",
      "100 -9.68-0.05j ± 0.064 [var=2.7e+00, R_hat=1.0007]\n",
      "150 -10.65-0.02j ± 0.038 [var=1.0e+00, R_hat=1.0016]\n",
      "200 -10.94-0.01j ± 0.027 [var=8.8e-01, R_hat=1.0002]\n",
      "250 -11.08-0.00j ± 0.023 [var=6.0e-01, R_hat=0.9991]\n",
      "300 -11.20+0.01j ± 0.024 [var=4.6e-01, R_hat=0.9992]\n",
      "350 -11.21-0.00j ± 0.017 [var=2.9e-01, R_hat=0.9992]\n",
      "400 -11.26+0.00j ± 0.014 [var=1.8e-01, R_hat=0.9997]\n",
      "450 -11.28+0.00j ± 0.012 [var=1.3e-01, R_hat=0.9994]\n"
     ]
    }
   ],
   "source": [
    "# Running the learning loop and printing the energy every 50 steps\n",
    "# [notice that the very first iteration is slow because of JIT compilation]\n",
    "for it in vmc.iter(500,50):\n",
    "    print(it,vmc.energy)"
   ]
  },
  {
   "cell_type": "markdown",
   "metadata": {},
   "source": [
    "## Comparing to exact diagonalization\n",
    "\n",
    "Since this is a relatively small quantum system, we can still diagonalize the Hamiltonian using exact diagonalization. For this purpose, NetKet conveniently exposes a ```.to_sparse``` method that just converts the Hamiltonian into a ```scipy``` sparse matrix.\n",
    "Here we first obtain this sparse matrix, and then diagonalize it with scipy builtins. "
   ]
  },
  {
   "cell_type": "code",
   "execution_count": 5,
   "metadata": {},
   "outputs": [
    {
     "name": "stdout",
     "output_type": "stream",
     "text": [
      "Exact energy is :  -11.297315259167611\n",
      "Relative error is :  0.0017834662727841972\n"
     ]
    }
   ],
   "source": [
    "import scipy\n",
    "exact_ens=scipy.sparse.linalg.eigsh(ha.to_sparse(),k=1,which='SA',return_eigenvectors=False)\n",
    "print(\"Exact energy is : \",exact_ens[0])\n",
    "print(\"Relative error is : \", (abs((vmc.energy.mean-exact_ens[0])/exact_ens[0])))"
   ]
  }
 ],
 "metadata": {
  "kernelspec": {
   "display_name": "Python 3",
   "language": "python",
   "name": "python3"
  },
  "language_info": {
   "codemirror_mode": {
    "name": "ipython",
    "version": 3
   },
   "file_extension": ".py",
   "mimetype": "text/x-python",
   "name": "python",
   "nbconvert_exporter": "python",
   "pygments_lexer": "ipython3",
   "version": "3.8.8"
  }
 },
 "nbformat": 4,
 "nbformat_minor": 4
}
